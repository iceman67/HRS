{
 "cells": [
  {
   "cell_type": "code",
   "execution_count": 1,
   "metadata": {},
   "outputs": [],
   "source": [
    "import pandas as pd"
   ]
  },
  {
   "cell_type": "code",
   "execution_count": 2,
   "metadata": {},
   "outputs": [
    {
     "data": {
      "text/html": [
       "<div>\n",
       "<style scoped>\n",
       "    .dataframe tbody tr th:only-of-type {\n",
       "        vertical-align: middle;\n",
       "    }\n",
       "\n",
       "    .dataframe tbody tr th {\n",
       "        vertical-align: top;\n",
       "    }\n",
       "\n",
       "    .dataframe thead th {\n",
       "        text-align: right;\n",
       "    }\n",
       "</style>\n",
       "<table border=\"1\" class=\"dataframe\">\n",
       "  <thead>\n",
       "    <tr style=\"text-align: right;\">\n",
       "      <th></th>\n",
       "      <th>NO</th>\n",
       "      <th>REG_DATE</th>\n",
       "      <th>PM2.5</th>\n",
       "      <th>PM10.0</th>\n",
       "      <th>Temperature</th>\n",
       "      <th>Huminity</th>\n",
       "      <th>TVOC</th>\n",
       "      <th>CO2</th>\n",
       "    </tr>\n",
       "  </thead>\n",
       "  <tbody>\n",
       "    <tr>\n",
       "      <td>0</td>\n",
       "      <td>1</td>\n",
       "      <td>2020-04-02 0:00</td>\n",
       "      <td>7.54</td>\n",
       "      <td>6.19</td>\n",
       "      <td>21.6</td>\n",
       "      <td>22.1</td>\n",
       "      <td>1.86</td>\n",
       "      <td>4.16</td>\n",
       "    </tr>\n",
       "    <tr>\n",
       "      <td>1</td>\n",
       "      <td>2</td>\n",
       "      <td>2020-04-02 0:01</td>\n",
       "      <td>7.83</td>\n",
       "      <td>6.19</td>\n",
       "      <td>21.6</td>\n",
       "      <td>22.1</td>\n",
       "      <td>1.85</td>\n",
       "      <td>4.15</td>\n",
       "    </tr>\n",
       "    <tr>\n",
       "      <td>2</td>\n",
       "      <td>3</td>\n",
       "      <td>2020-04-02 0:02</td>\n",
       "      <td>7.54</td>\n",
       "      <td>6.19</td>\n",
       "      <td>21.6</td>\n",
       "      <td>22.1</td>\n",
       "      <td>1.86</td>\n",
       "      <td>4.20</td>\n",
       "    </tr>\n",
       "    <tr>\n",
       "      <td>3</td>\n",
       "      <td>4</td>\n",
       "      <td>2020-04-02 0:03</td>\n",
       "      <td>7.83</td>\n",
       "      <td>6.19</td>\n",
       "      <td>21.5</td>\n",
       "      <td>22.1</td>\n",
       "      <td>1.81</td>\n",
       "      <td>4.17</td>\n",
       "    </tr>\n",
       "    <tr>\n",
       "      <td>4</td>\n",
       "      <td>5</td>\n",
       "      <td>2020-04-02 0:04</td>\n",
       "      <td>8.12</td>\n",
       "      <td>6.19</td>\n",
       "      <td>21.6</td>\n",
       "      <td>22.1</td>\n",
       "      <td>1.85</td>\n",
       "      <td>4.20</td>\n",
       "    </tr>\n",
       "  </tbody>\n",
       "</table>\n",
       "</div>"
      ],
      "text/plain": [
       "   NO         REG_DATE  PM2.5  PM10.0  Temperature  Huminity  TVOC   CO2\n",
       "0   1  2020-04-02 0:00   7.54    6.19         21.6      22.1  1.86  4.16\n",
       "1   2  2020-04-02 0:01   7.83    6.19         21.6      22.1  1.85  4.15\n",
       "2   3  2020-04-02 0:02   7.54    6.19         21.6      22.1  1.86  4.20\n",
       "3   4  2020-04-02 0:03   7.83    6.19         21.5      22.1  1.81  4.17\n",
       "4   5  2020-04-02 0:04   8.12    6.19         21.6      22.1  1.85  4.20"
      ]
     },
     "execution_count": 2,
     "metadata": {},
     "output_type": "execute_result"
    }
   ],
   "source": [
    "localurl='April_sensor_data.csv'\n",
    "try:\n",
    "    df = pd.read_csv(localurl)\n",
    "except  OSError as err:\n",
    "    print(\"OS error: {0}\".format(err))\n",
    "df.head()"
   ]
  },
  {
   "cell_type": "code",
   "execution_count": 3,
   "metadata": {},
   "outputs": [
    {
     "data": {
      "text/plain": [
       "Index(['NO', 'REG_DATE', 'PM2.5', 'PM10.0', 'Temperature', 'Huminity', 'TVOC',\n",
       "       'CO2'],\n",
       "      dtype='object')"
      ]
     },
     "execution_count": 3,
     "metadata": {},
     "output_type": "execute_result"
    }
   ],
   "source": [
    "df.columns"
   ]
  },
  {
   "cell_type": "code",
   "execution_count": 4,
   "metadata": {},
   "outputs": [],
   "source": [
    "df.drop('NO', axis=1, inplace=True)"
   ]
  },
  {
   "cell_type": "code",
   "execution_count": 5,
   "metadata": {},
   "outputs": [],
   "source": [
    "df = df.rename(columns={'Huminity': 'Humidity', 'PM2.5' :'PM25', 'PM10.0':'PM100'})"
   ]
  },
  {
   "cell_type": "code",
   "execution_count": 6,
   "metadata": {},
   "outputs": [
    {
     "data": {
      "text/plain": [
       "0        (18.093, 21.65]\n",
       "1        (18.093, 21.65]\n",
       "2        (18.093, 21.65]\n",
       "3        (18.093, 21.65]\n",
       "4        (18.093, 21.65]\n",
       "              ...       \n",
       "25915    (18.093, 21.65]\n",
       "25916    (18.093, 21.65]\n",
       "25917    (18.093, 21.65]\n",
       "25918    (18.093, 21.65]\n",
       "25919    (18.093, 21.65]\n",
       "Name: Temperature, Length: 25920, dtype: category\n",
       "Categories (2, interval[float64]): [(18.093, 21.65] < (21.65, 25.2]]"
      ]
     },
     "execution_count": 6,
     "metadata": {},
     "output_type": "execute_result"
    }
   ],
   "source": [
    "pd.cut(df['Temperature'], bins=2)"
   ]
  },
  {
   "cell_type": "code",
   "execution_count": 7,
   "metadata": {},
   "outputs": [
    {
     "data": {
      "text/plain": [
       "683    25.2\n",
       "680    25.1\n",
       "681    25.1\n",
       "Name: Temperature, dtype: float64"
      ]
     },
     "execution_count": 7,
     "metadata": {},
     "output_type": "execute_result"
    }
   ],
   "source": [
    "df['Temperature'].nlargest(3)"
   ]
  },
  {
   "cell_type": "code",
   "execution_count": 8,
   "metadata": {},
   "outputs": [
    {
     "data": {
      "text/plain": [
       "18.1"
      ]
     },
     "execution_count": 8,
     "metadata": {},
     "output_type": "execute_result"
    }
   ],
   "source": [
    "df['Temperature'].min() "
   ]
  },
  {
   "cell_type": "code",
   "execution_count": 9,
   "metadata": {},
   "outputs": [
    {
     "data": {
      "text/plain": [
       "25.2"
      ]
     },
     "execution_count": 9,
     "metadata": {},
     "output_type": "execute_result"
    }
   ],
   "source": [
    "df['Temperature'].max()"
   ]
  },
  {
   "cell_type": "code",
   "execution_count": 10,
   "metadata": {},
   "outputs": [
    {
     "data": {
      "text/html": [
       "<div>\n",
       "<style scoped>\n",
       "    .dataframe tbody tr th:only-of-type {\n",
       "        vertical-align: middle;\n",
       "    }\n",
       "\n",
       "    .dataframe tbody tr th {\n",
       "        vertical-align: top;\n",
       "    }\n",
       "\n",
       "    .dataframe thead th {\n",
       "        text-align: right;\n",
       "    }\n",
       "</style>\n",
       "<table border=\"1\" class=\"dataframe\">\n",
       "  <thead>\n",
       "    <tr style=\"text-align: right;\">\n",
       "      <th></th>\n",
       "      <th>REG_DATE</th>\n",
       "      <th>PM25</th>\n",
       "      <th>PM100</th>\n",
       "      <th>Temperature</th>\n",
       "      <th>Humidity</th>\n",
       "      <th>TVOC</th>\n",
       "      <th>CO2</th>\n",
       "    </tr>\n",
       "  </thead>\n",
       "  <tbody>\n",
       "    <tr>\n",
       "      <td>683</td>\n",
       "      <td>2020-04-02 11:23</td>\n",
       "      <td>11.03</td>\n",
       "      <td>12.38</td>\n",
       "      <td>25.2</td>\n",
       "      <td>19.6</td>\n",
       "      <td>2.58</td>\n",
       "      <td>4.49</td>\n",
       "    </tr>\n",
       "    <tr>\n",
       "      <td>680</td>\n",
       "      <td>2020-04-02 11:20</td>\n",
       "      <td>10.74</td>\n",
       "      <td>12.38</td>\n",
       "      <td>25.1</td>\n",
       "      <td>19.7</td>\n",
       "      <td>2.63</td>\n",
       "      <td>4.62</td>\n",
       "    </tr>\n",
       "    <tr>\n",
       "      <td>681</td>\n",
       "      <td>2020-04-02 11:21</td>\n",
       "      <td>10.16</td>\n",
       "      <td>12.38</td>\n",
       "      <td>25.1</td>\n",
       "      <td>19.5</td>\n",
       "      <td>2.58</td>\n",
       "      <td>4.54</td>\n",
       "    </tr>\n",
       "  </tbody>\n",
       "</table>\n",
       "</div>"
      ],
      "text/plain": [
       "             REG_DATE   PM25  PM100  Temperature  Humidity  TVOC   CO2\n",
       "683  2020-04-02 11:23  11.03  12.38         25.2      19.6  2.58  4.49\n",
       "680  2020-04-02 11:20  10.74  12.38         25.1      19.7  2.63  4.62\n",
       "681  2020-04-02 11:21  10.16  12.38         25.1      19.5  2.58  4.54"
      ]
     },
     "execution_count": 10,
     "metadata": {},
     "output_type": "execute_result"
    }
   ],
   "source": [
    "df.nlargest(3, columns='Temperature')"
   ]
  },
  {
   "cell_type": "code",
   "execution_count": 11,
   "metadata": {},
   "outputs": [
    {
     "data": {
      "text/plain": [
       "10671    18.1\n",
       "10672    18.1\n",
       "10669    18.2\n",
       "Name: Temperature, dtype: float64"
      ]
     },
     "execution_count": 11,
     "metadata": {},
     "output_type": "execute_result"
    }
   ],
   "source": [
    "df['Temperature'].nsmallest(3)"
   ]
  },
  {
   "cell_type": "code",
   "execution_count": 12,
   "metadata": {},
   "outputs": [
    {
     "data": {
      "text/html": [
       "<div>\n",
       "<style scoped>\n",
       "    .dataframe tbody tr th:only-of-type {\n",
       "        vertical-align: middle;\n",
       "    }\n",
       "\n",
       "    .dataframe tbody tr th {\n",
       "        vertical-align: top;\n",
       "    }\n",
       "\n",
       "    .dataframe thead th {\n",
       "        text-align: right;\n",
       "    }\n",
       "</style>\n",
       "<table border=\"1\" class=\"dataframe\">\n",
       "  <thead>\n",
       "    <tr style=\"text-align: right;\">\n",
       "      <th></th>\n",
       "      <th>REG_DATE</th>\n",
       "      <th>PM25</th>\n",
       "      <th>PM100</th>\n",
       "      <th>Temperature</th>\n",
       "      <th>Humidity</th>\n",
       "      <th>TVOC</th>\n",
       "      <th>CO2</th>\n",
       "    </tr>\n",
       "  </thead>\n",
       "  <tbody>\n",
       "    <tr>\n",
       "      <td>10671</td>\n",
       "      <td>2020-04-09 9:51</td>\n",
       "      <td>14.22</td>\n",
       "      <td>12.38</td>\n",
       "      <td>18.1</td>\n",
       "      <td>21.0</td>\n",
       "      <td>1.39</td>\n",
       "      <td>3.22</td>\n",
       "    </tr>\n",
       "    <tr>\n",
       "      <td>10672</td>\n",
       "      <td>2020-04-09 9:52</td>\n",
       "      <td>13.35</td>\n",
       "      <td>12.38</td>\n",
       "      <td>18.1</td>\n",
       "      <td>21.1</td>\n",
       "      <td>1.42</td>\n",
       "      <td>3.25</td>\n",
       "    </tr>\n",
       "    <tr>\n",
       "      <td>10669</td>\n",
       "      <td>2020-04-09 9:49</td>\n",
       "      <td>15.09</td>\n",
       "      <td>12.38</td>\n",
       "      <td>18.2</td>\n",
       "      <td>20.9</td>\n",
       "      <td>1.38</td>\n",
       "      <td>3.29</td>\n",
       "    </tr>\n",
       "  </tbody>\n",
       "</table>\n",
       "</div>"
      ],
      "text/plain": [
       "              REG_DATE   PM25  PM100  Temperature  Humidity  TVOC   CO2\n",
       "10671  2020-04-09 9:51  14.22  12.38         18.1      21.0  1.39  3.22\n",
       "10672  2020-04-09 9:52  13.35  12.38         18.1      21.1  1.42  3.25\n",
       "10669  2020-04-09 9:49  15.09  12.38         18.2      20.9  1.38  3.29"
      ]
     },
     "execution_count": 12,
     "metadata": {},
     "output_type": "execute_result"
    }
   ],
   "source": [
    "df.nsmallest(3, columns='Temperature')"
   ]
  },
  {
   "cell_type": "code",
   "execution_count": 13,
   "metadata": {},
   "outputs": [
    {
     "data": {
      "text/plain": [
       "18.1"
      ]
     },
     "execution_count": 13,
     "metadata": {},
     "output_type": "execute_result"
    }
   ],
   "source": [
    "df['Temperature'].min()"
   ]
  },
  {
   "cell_type": "code",
   "execution_count": 14,
   "metadata": {},
   "outputs": [
    {
     "data": {
      "text/plain": [
       "5071    19.5\n",
       "Name: Temperature, dtype: float64"
      ]
     },
     "execution_count": 14,
     "metadata": {},
     "output_type": "execute_result"
    }
   ],
   "source": [
    "df['Temperature'][df['Humidity']==df['Humidity'].min()]"
   ]
  },
  {
   "cell_type": "code",
   "execution_count": 15,
   "metadata": {},
   "outputs": [],
   "source": [
    "df_temp = df['Temperature']"
   ]
  },
  {
   "cell_type": "code",
   "execution_count": 16,
   "metadata": {},
   "outputs": [
    {
     "data": {
      "text/plain": [
       "count    25919.000000\n",
       "mean        20.248779\n",
       "std          1.054083\n",
       "min         18.100000\n",
       "25%         19.400000\n",
       "50%         20.200000\n",
       "75%         20.800000\n",
       "max         25.200000\n",
       "Name: Temperature, dtype: float64"
      ]
     },
     "execution_count": 16,
     "metadata": {},
     "output_type": "execute_result"
    }
   ],
   "source": [
    "df_temp.describe()"
   ]
  },
  {
   "cell_type": "code",
   "execution_count": 17,
   "metadata": {},
   "outputs": [],
   "source": [
    "import matplotlib.pyplot as plt\n",
    "plt.style.use('seaborn-whitegrid')"
   ]
  },
  {
   "cell_type": "code",
   "execution_count": 18,
   "metadata": {},
   "outputs": [],
   "source": [
    "df_1 = df.drop('REG_DATE', axis=1)"
   ]
  },
  {
   "cell_type": "code",
   "execution_count": 19,
   "metadata": {},
   "outputs": [
    {
     "name": "stdout",
     "output_type": "stream",
     "text": [
      "count    25920.000000\n",
      "mean        13.863554\n",
      "std          8.075783\n",
      "min          1.480000\n",
      "25%          8.700000\n",
      "50%         12.190000\n",
      "75%         16.730000\n",
      "max         74.570000\n",
      "Name: PM25, dtype: float64\n",
      "count    25920.000000\n",
      "mean        13.872682\n",
      "std          7.598230\n",
      "min          0.000000\n",
      "25%          6.587500\n",
      "50%         12.380000\n",
      "75%         18.570000\n",
      "max         61.900000\n",
      "Name: PM100, dtype: float64\n",
      "count    25919.000000\n",
      "mean        20.248779\n",
      "std          1.054083\n",
      "min         18.100000\n",
      "25%         19.400000\n",
      "50%         20.200000\n",
      "75%         20.800000\n",
      "max         25.200000\n",
      "Name: Temperature, dtype: float64\n",
      "count    25919.000000\n",
      "mean        26.715375\n",
      "std          6.867535\n",
      "min         13.300000\n",
      "25%         22.300000\n",
      "50%         25.500000\n",
      "75%         30.500000\n",
      "max         43.400000\n",
      "Name: Humidity, dtype: float64\n",
      "count    25919.000000\n",
      "mean         2.026366\n",
      "std          0.282825\n",
      "min          1.100000\n",
      "25%          1.840000\n",
      "50%          2.010000\n",
      "75%          2.160000\n",
      "max          6.860000\n",
      "Name: TVOC, dtype: float64\n",
      "count    25919.000000\n",
      "mean         4.709173\n",
      "std          1.380514\n",
      "min          1.880000\n",
      "25%          3.870000\n",
      "50%          4.540000\n",
      "75%          5.180000\n",
      "max          8.310000\n",
      "Name: CO2, dtype: float64\n"
     ]
    }
   ],
   "source": [
    "for x in df_1.columns:\n",
    "    print(df_1[x].describe())\n",
    "    "
   ]
  },
  {
   "cell_type": "code",
   "execution_count": 20,
   "metadata": {},
   "outputs": [
    {
     "data": {
      "text/plain": [
       "[<matplotlib.lines.Line2D at 0x11a906190>]"
      ]
     },
     "execution_count": 20,
     "metadata": {},
     "output_type": "execute_result"
    },
    {
     "data": {
      "image/png": "[encoded data removed]",
      "text/plain": [
       "<Figure size 432x288 with 6 Axes>"
      ]
     },
     "metadata": {
      "needs_background": "light"
     },
     "output_type": "display_data"
    }
   ],
   "source": [
    "figure, axes = plt.subplots(nrows=2, ncols=3)\n",
    "x  = list(range(len(df_1['Temperature'])))\n",
    "axes[0, 0].plot(x, df_1['PM25'])\n",
    "axes[0, 1].plot(x, df_1['PM100'])\n",
    "axes[0, 2].plot(x, df_1['Temperature'])\n",
    "axes[1, 0].plot(x, df_1['Humidity'])\n",
    "axes[1, 1].plot(x, df_1['TVOC'])\n",
    "axes[1, 2].plot(x, df_1['CO2'])\n",
    "\n"
   ]
  },
  {
   "cell_type": "code",
   "execution_count": 21,
   "metadata": {},
   "outputs": [
    {
     "data": {
      "image/png": "[encoded data removed]",
      "text/plain": [
       "<Figure size 432x288 with 6 Axes>"
      ]
     },
     "metadata": {
      "needs_background": "light"
     },
     "output_type": "display_data"
    }
   ],
   "source": [
    "fig, ax = plt.subplots(nrows=2, ncols=3)\n",
    "# Just a figure and one subplot\n",
    "for xy in df_1.columns:\n",
    "    x  = list(range(len(df_1[xy])))  \n",
    "    plt.plot(x, df_1[xy], ':b', color='g')"
   ]
  },
  {
   "cell_type": "code",
   "execution_count": 22,
   "metadata": {},
   "outputs": [],
   "source": [
    "x = list(range(len(df_temp)))"
   ]
  },
  {
   "cell_type": "code",
   "execution_count": 23,
   "metadata": {},
   "outputs": [
    {
     "data": {
      "image/png": "[encoded data removed]",
      "text/plain": [
       "<Figure size 432x288 with 1 Axes>"
      ]
     },
     "metadata": {
      "needs_background": "light"
     },
     "output_type": "display_data"
    }
   ],
   "source": [
    "plt.plot(x, df_temp, ':b', color='g')\n",
    "plt.xlim(0, 5)\n",
    "plt.ylim(15, 50);\n",
    "plt.axis('tight');\n",
    "plt.title(\"63_108\")\n",
    "plt.ylabel(\"Temp\");\n",
    "\n",
    "plt.show()"
   ]
  },
  {
   "cell_type": "code",
   "execution_count": 24,
   "metadata": {},
   "outputs": [
    {
     "data": {
      "text/plain": [
       "count    25919.000000\n",
       "mean        20.248779\n",
       "std          1.054083\n",
       "min         18.100000\n",
       "25%         19.400000\n",
       "50%         20.200000\n",
       "75%         20.800000\n",
       "max         25.200000\n",
       "Name: Temperature, dtype: float64"
      ]
     },
     "execution_count": 24,
     "metadata": {},
     "output_type": "execute_result"
    }
   ],
   "source": [
    "df_temp.describe()"
   ]
  },
  {
   "cell_type": "code",
   "execution_count": 25,
   "metadata": {},
   "outputs": [],
   "source": [
    "def z_score(df):\n",
    "    return ((df - df.mean())/df.std(ddof=0))"
   ]
  },
  {
   "cell_type": "code",
   "execution_count": 26,
   "metadata": {},
   "outputs": [
    {
     "data": {
      "text/plain": [
       "0        1.281917\n",
       "1        1.281917\n",
       "2        1.281917\n",
       "3        1.187046\n",
       "4        1.281917\n",
       "           ...   \n",
       "25915    0.333207\n",
       "25916    0.333207\n",
       "25917    0.333207\n",
       "25918    0.333207\n",
       "25919    0.333207\n",
       "Name: Temperature, Length: 25920, dtype: float64"
      ]
     },
     "execution_count": 26,
     "metadata": {},
     "output_type": "execute_result"
    }
   ],
   "source": [
    "z_score(df_temp)"
   ]
  },
  {
   "cell_type": "code",
   "execution_count": 27,
   "metadata": {},
   "outputs": [],
   "source": [
    "import matplotlib.pyplot as plt\n",
    "def plot_zscore(df):\n",
    "    x = list(range(len(df_temp)))\n",
    "    y = z_score(df_temp)\n",
    "    plt.plot(x, y, ':b', color='g')\n",
    "    plt.plot(x, df_temp, ':b', color='r')\n",
    "    plt.show()"
   ]
  },
  {
   "cell_type": "code",
   "execution_count": 28,
   "metadata": {},
   "outputs": [
    {
     "data": {
      "image/png": "[encoded data removed]",
      "text/plain": [
       "<Figure size 432x288 with 1 Axes>"
      ]
     },
     "metadata": {
      "needs_background": "light"
     },
     "output_type": "display_data"
    }
   ],
   "source": [
    "plot_zscore(df_temp)"
   ]
  },
  {
   "cell_type": "code",
   "execution_count": 29,
   "metadata": {},
   "outputs": [
    {
     "name": "stderr",
     "output_type": "stream",
     "text": [
      "/Users/kangyunhi/opt/anaconda3/lib/python3.7/site-packages/numpy/lib/histograms.py:829: RuntimeWarning: invalid value encountered in greater_equal\n",
      "  keep = (tmp_a >= first_edge)\n",
      "/Users/kangyunhi/opt/anaconda3/lib/python3.7/site-packages/numpy/lib/histograms.py:830: RuntimeWarning: invalid value encountered in less_equal\n",
      "  keep &= (tmp_a <= last_edge)\n",
      "/Users/kangyunhi/opt/anaconda3/lib/python3.7/site-packages/statsmodels/nonparametric/kde.py:447: RuntimeWarning: invalid value encountered in greater\n",
      "  X = X[np.logical_and(X > clip[0], X < clip[1])] # won't work for two columns.\n",
      "/Users/kangyunhi/opt/anaconda3/lib/python3.7/site-packages/statsmodels/nonparametric/kde.py:447: RuntimeWarning: invalid value encountered in less\n",
      "  X = X[np.logical_and(X > clip[0], X < clip[1])] # won't work for two columns.\n"
     ]
    },
    {
     "data": {
      "image/png": "[encoded data removed]",
      "text/plain": [
       "<Figure size 432x288 with 1 Axes>"
      ]
     },
     "metadata": {
      "needs_background": "light"
     },
     "output_type": "display_data"
    }
   ],
   "source": [
    "import seaborn as sns\n",
    "sns.distplot(df_temp, hist=True, kde=True,\n",
    "                 bins=int(180 / 5), color='darkblue',\n",
    "                 hist_kws={'edgecolor': 'black'},\n",
    "                 kde_kws={'linewidth': 2})\n",
    "plt.show()"
   ]
  },
  {
   "cell_type": "code",
   "execution_count": 30,
   "metadata": {},
   "outputs": [],
   "source": [
    "def find_outlier(df_1, df_temp, z_name):\n",
    "    df_1[z_name] = z_score(df_temp)\n",
    "    df_1[ z_name +\"_is_outlier\"] = df_1[z_name].apply(lambda x: x <= -2 or x >= 2)\n",
    "    #print(df_1[df_1[\"is_outlier\"]])"
   ]
  },
  {
   "cell_type": "markdown",
   "metadata": {},
   "source": [
    "import numpy as np\n",
    "\n",
    "find_outlier(df_1, df_temp, 'z_temp')\n",
    "num =  np.sum(df_1['z_temp'+\"is_outlier\"] == True)\n",
    "rate = num/len(df_1)\n",
    "rate"
   ]
  },
  {
   "cell_type": "code",
   "execution_count": 31,
   "metadata": {},
   "outputs": [],
   "source": [
    "import numpy as np\n",
    "\n",
    "for x in df_1.columns:\n",
    "    find_outlier(df_1, df_1[x], 'z_'+x)\n"
   ]
  },
  {
   "cell_type": "code",
   "execution_count": 32,
   "metadata": {},
   "outputs": [
    {
     "data": {
      "text/html": [
       "<div>\n",
       "<style scoped>\n",
       "    .dataframe tbody tr th:only-of-type {\n",
       "        vertical-align: middle;\n",
       "    }\n",
       "\n",
       "    .dataframe tbody tr th {\n",
       "        vertical-align: top;\n",
       "    }\n",
       "\n",
       "    .dataframe thead th {\n",
       "        text-align: right;\n",
       "    }\n",
       "</style>\n",
       "<table border=\"1\" class=\"dataframe\">\n",
       "  <thead>\n",
       "    <tr style=\"text-align: right;\">\n",
       "      <th></th>\n",
       "      <th>PM25</th>\n",
       "      <th>PM100</th>\n",
       "      <th>Temperature</th>\n",
       "      <th>Humidity</th>\n",
       "      <th>TVOC</th>\n",
       "      <th>CO2</th>\n",
       "      <th>z_PM25</th>\n",
       "      <th>z_PM25_is_outlier</th>\n",
       "      <th>z_PM100</th>\n",
       "      <th>z_PM100_is_outlier</th>\n",
       "      <th>z_Temperature</th>\n",
       "      <th>z_Temperature_is_outlier</th>\n",
       "      <th>z_Humidity</th>\n",
       "      <th>z_Humidity_is_outlier</th>\n",
       "      <th>z_TVOC</th>\n",
       "      <th>z_TVOC_is_outlier</th>\n",
       "      <th>z_CO2</th>\n",
       "      <th>z_CO2_is_outlier</th>\n",
       "    </tr>\n",
       "  </thead>\n",
       "  <tbody>\n",
       "    <tr>\n",
       "      <td>0</td>\n",
       "      <td>7.54</td>\n",
       "      <td>6.19</td>\n",
       "      <td>21.6</td>\n",
       "      <td>22.1</td>\n",
       "      <td>1.86</td>\n",
       "      <td>4.16</td>\n",
       "      <td>-0.783042</td>\n",
       "      <td>False</td>\n",
       "      <td>-1.011134</td>\n",
       "      <td>False</td>\n",
       "      <td>1.281917</td>\n",
       "      <td>False</td>\n",
       "      <td>-0.672070</td>\n",
       "      <td>False</td>\n",
       "      <td>-0.588240</td>\n",
       "      <td>False</td>\n",
       "      <td>-0.397811</td>\n",
       "      <td>False</td>\n",
       "    </tr>\n",
       "    <tr>\n",
       "      <td>1</td>\n",
       "      <td>7.83</td>\n",
       "      <td>6.19</td>\n",
       "      <td>21.6</td>\n",
       "      <td>22.1</td>\n",
       "      <td>1.85</td>\n",
       "      <td>4.15</td>\n",
       "      <td>-0.747131</td>\n",
       "      <td>False</td>\n",
       "      <td>-1.011134</td>\n",
       "      <td>False</td>\n",
       "      <td>1.281917</td>\n",
       "      <td>False</td>\n",
       "      <td>-0.672070</td>\n",
       "      <td>False</td>\n",
       "      <td>-0.623598</td>\n",
       "      <td>False</td>\n",
       "      <td>-0.405055</td>\n",
       "      <td>False</td>\n",
       "    </tr>\n",
       "    <tr>\n",
       "      <td>2</td>\n",
       "      <td>7.54</td>\n",
       "      <td>6.19</td>\n",
       "      <td>21.6</td>\n",
       "      <td>22.1</td>\n",
       "      <td>1.86</td>\n",
       "      <td>4.20</td>\n",
       "      <td>-0.783042</td>\n",
       "      <td>False</td>\n",
       "      <td>-1.011134</td>\n",
       "      <td>False</td>\n",
       "      <td>1.281917</td>\n",
       "      <td>False</td>\n",
       "      <td>-0.672070</td>\n",
       "      <td>False</td>\n",
       "      <td>-0.588240</td>\n",
       "      <td>False</td>\n",
       "      <td>-0.368836</td>\n",
       "      <td>False</td>\n",
       "    </tr>\n",
       "    <tr>\n",
       "      <td>3</td>\n",
       "      <td>7.83</td>\n",
       "      <td>6.19</td>\n",
       "      <td>21.5</td>\n",
       "      <td>22.1</td>\n",
       "      <td>1.81</td>\n",
       "      <td>4.17</td>\n",
       "      <td>-0.747131</td>\n",
       "      <td>False</td>\n",
       "      <td>-1.011134</td>\n",
       "      <td>False</td>\n",
       "      <td>1.187046</td>\n",
       "      <td>False</td>\n",
       "      <td>-0.672070</td>\n",
       "      <td>False</td>\n",
       "      <td>-0.765031</td>\n",
       "      <td>False</td>\n",
       "      <td>-0.390567</td>\n",
       "      <td>False</td>\n",
       "    </tr>\n",
       "    <tr>\n",
       "      <td>4</td>\n",
       "      <td>8.12</td>\n",
       "      <td>6.19</td>\n",
       "      <td>21.6</td>\n",
       "      <td>22.1</td>\n",
       "      <td>1.85</td>\n",
       "      <td>4.20</td>\n",
       "      <td>-0.711221</td>\n",
       "      <td>False</td>\n",
       "      <td>-1.011134</td>\n",
       "      <td>False</td>\n",
       "      <td>1.281917</td>\n",
       "      <td>False</td>\n",
       "      <td>-0.672070</td>\n",
       "      <td>False</td>\n",
       "      <td>-0.623598</td>\n",
       "      <td>False</td>\n",
       "      <td>-0.368836</td>\n",
       "      <td>False</td>\n",
       "    </tr>\n",
       "    <tr>\n",
       "      <td>...</td>\n",
       "      <td>...</td>\n",
       "      <td>...</td>\n",
       "      <td>...</td>\n",
       "      <td>...</td>\n",
       "      <td>...</td>\n",
       "      <td>...</td>\n",
       "      <td>...</td>\n",
       "      <td>...</td>\n",
       "      <td>...</td>\n",
       "      <td>...</td>\n",
       "      <td>...</td>\n",
       "      <td>...</td>\n",
       "      <td>...</td>\n",
       "      <td>...</td>\n",
       "      <td>...</td>\n",
       "      <td>...</td>\n",
       "      <td>...</td>\n",
       "      <td>...</td>\n",
       "    </tr>\n",
       "    <tr>\n",
       "      <td>25915</td>\n",
       "      <td>4.35</td>\n",
       "      <td>4.35</td>\n",
       "      <td>20.6</td>\n",
       "      <td>42.3</td>\n",
       "      <td>1.76</td>\n",
       "      <td>7.70</td>\n",
       "      <td>-1.178058</td>\n",
       "      <td>False</td>\n",
       "      <td>-1.253300</td>\n",
       "      <td>False</td>\n",
       "      <td>0.333207</td>\n",
       "      <td>False</td>\n",
       "      <td>2.269362</td>\n",
       "      <td>True</td>\n",
       "      <td>-0.941822</td>\n",
       "      <td>False</td>\n",
       "      <td>2.166501</td>\n",
       "      <td>True</td>\n",
       "    </tr>\n",
       "    <tr>\n",
       "      <td>25916</td>\n",
       "      <td>4.21</td>\n",
       "      <td>4.22</td>\n",
       "      <td>20.6</td>\n",
       "      <td>42.3</td>\n",
       "      <td>1.78</td>\n",
       "      <td>7.69</td>\n",
       "      <td>-1.195394</td>\n",
       "      <td>False</td>\n",
       "      <td>-1.270410</td>\n",
       "      <td>False</td>\n",
       "      <td>0.333207</td>\n",
       "      <td>False</td>\n",
       "      <td>2.269362</td>\n",
       "      <td>True</td>\n",
       "      <td>-0.871106</td>\n",
       "      <td>False</td>\n",
       "      <td>2.159257</td>\n",
       "      <td>True</td>\n",
       "    </tr>\n",
       "    <tr>\n",
       "      <td>25917</td>\n",
       "      <td>5.07</td>\n",
       "      <td>5.07</td>\n",
       "      <td>20.6</td>\n",
       "      <td>42.3</td>\n",
       "      <td>1.76</td>\n",
       "      <td>7.66</td>\n",
       "      <td>-1.088901</td>\n",
       "      <td>False</td>\n",
       "      <td>-1.158540</td>\n",
       "      <td>False</td>\n",
       "      <td>0.333207</td>\n",
       "      <td>False</td>\n",
       "      <td>2.269362</td>\n",
       "      <td>True</td>\n",
       "      <td>-0.941822</td>\n",
       "      <td>False</td>\n",
       "      <td>2.137525</td>\n",
       "      <td>True</td>\n",
       "    </tr>\n",
       "    <tr>\n",
       "      <td>25918</td>\n",
       "      <td>3.90</td>\n",
       "      <td>3.90</td>\n",
       "      <td>20.6</td>\n",
       "      <td>42.3</td>\n",
       "      <td>1.77</td>\n",
       "      <td>7.71</td>\n",
       "      <td>-1.233781</td>\n",
       "      <td>False</td>\n",
       "      <td>-1.312526</td>\n",
       "      <td>False</td>\n",
       "      <td>0.333207</td>\n",
       "      <td>False</td>\n",
       "      <td>2.269362</td>\n",
       "      <td>True</td>\n",
       "      <td>-0.906464</td>\n",
       "      <td>False</td>\n",
       "      <td>2.173744</td>\n",
       "      <td>True</td>\n",
       "    </tr>\n",
       "    <tr>\n",
       "      <td>25919</td>\n",
       "      <td>4.64</td>\n",
       "      <td>4.64</td>\n",
       "      <td>20.6</td>\n",
       "      <td>42.3</td>\n",
       "      <td>1.74</td>\n",
       "      <td>7.70</td>\n",
       "      <td>-1.142147</td>\n",
       "      <td>False</td>\n",
       "      <td>-1.215133</td>\n",
       "      <td>False</td>\n",
       "      <td>0.333207</td>\n",
       "      <td>False</td>\n",
       "      <td>2.269362</td>\n",
       "      <td>True</td>\n",
       "      <td>-1.012539</td>\n",
       "      <td>False</td>\n",
       "      <td>2.166501</td>\n",
       "      <td>True</td>\n",
       "    </tr>\n",
       "  </tbody>\n",
       "</table>\n",
       "<p>25920 rows × 18 columns</p>\n",
       "</div>"
      ],
      "text/plain": [
       "       PM25  PM100  Temperature  Humidity  TVOC   CO2    z_PM25  \\\n",
       "0      7.54   6.19         21.6      22.1  1.86  4.16 -0.783042   \n",
       "1      7.83   6.19         21.6      22.1  1.85  4.15 -0.747131   \n",
       "2      7.54   6.19         21.6      22.1  1.86  4.20 -0.783042   \n",
       "3      7.83   6.19         21.5      22.1  1.81  4.17 -0.747131   \n",
       "4      8.12   6.19         21.6      22.1  1.85  4.20 -0.711221   \n",
       "...     ...    ...          ...       ...   ...   ...       ...   \n",
       "25915  4.35   4.35         20.6      42.3  1.76  7.70 -1.178058   \n",
       "25916  4.21   4.22         20.6      42.3  1.78  7.69 -1.195394   \n",
       "25917  5.07   5.07         20.6      42.3  1.76  7.66 -1.088901   \n",
       "25918  3.90   3.90         20.6      42.3  1.77  7.71 -1.233781   \n",
       "25919  4.64   4.64         20.6      42.3  1.74  7.70 -1.142147   \n",
       "\n",
       "       z_PM25_is_outlier   z_PM100  z_PM100_is_outlier  z_Temperature  \\\n",
       "0                  False -1.011134               False       1.281917   \n",
       "1                  False -1.011134               False       1.281917   \n",
       "2                  False -1.011134               False       1.281917   \n",
       "3                  False -1.011134               False       1.187046   \n",
       "4                  False -1.011134               False       1.281917   \n",
       "...                  ...       ...                 ...            ...   \n",
       "25915              False -1.253300               False       0.333207   \n",
       "25916              False -1.270410               False       0.333207   \n",
       "25917              False -1.158540               False       0.333207   \n",
       "25918              False -1.312526               False       0.333207   \n",
       "25919              False -1.215133               False       0.333207   \n",
       "\n",
       "       z_Temperature_is_outlier  z_Humidity  z_Humidity_is_outlier    z_TVOC  \\\n",
       "0                         False   -0.672070                  False -0.588240   \n",
       "1                         False   -0.672070                  False -0.623598   \n",
       "2                         False   -0.672070                  False -0.588240   \n",
       "3                         False   -0.672070                  False -0.765031   \n",
       "4                         False   -0.672070                  False -0.623598   \n",
       "...                         ...         ...                    ...       ...   \n",
       "25915                     False    2.269362                   True -0.941822   \n",
       "25916                     False    2.269362                   True -0.871106   \n",
       "25917                     False    2.269362                   True -0.941822   \n",
       "25918                     False    2.269362                   True -0.906464   \n",
       "25919                     False    2.269362                   True -1.012539   \n",
       "\n",
       "       z_TVOC_is_outlier     z_CO2  z_CO2_is_outlier  \n",
       "0                  False -0.397811             False  \n",
       "1                  False -0.405055             False  \n",
       "2                  False -0.368836             False  \n",
       "3                  False -0.390567             False  \n",
       "4                  False -0.368836             False  \n",
       "...                  ...       ...               ...  \n",
       "25915              False  2.166501              True  \n",
       "25916              False  2.159257              True  \n",
       "25917              False  2.137525              True  \n",
       "25918              False  2.173744              True  \n",
       "25919              False  2.166501              True  \n",
       "\n",
       "[25920 rows x 18 columns]"
      ]
     },
     "execution_count": 32,
     "metadata": {},
     "output_type": "execute_result"
    }
   ],
   "source": [
    "df_1"
   ]
  },
  {
   "cell_type": "code",
   "execution_count": 40,
   "metadata": {},
   "outputs": [
    {
     "name": "stdout",
     "output_type": "stream",
     "text": [
      "PM25 = 0.05763888888888889\n",
      "PM100 = 0.06512345679012346\n",
      "Temperature = 0.047955246913580246\n",
      "Humidity = 0.04938271604938271\n",
      "TVOC = 0.04239969135802469\n",
      "CO2 = 0.05563271604938272\n"
     ]
    }
   ],
   "source": [
    "columns = ['PM25','PM100','Temperature','Humidity','TVOC','CO2']\n",
    "for x in columns: \n",
    "    num_x =  np.sum(df_1['z_'+ x + \"_is_outlier\"] == True)\n",
    "    rate_x = num_x/len(df_1)\n",
    "    print(\"{} = {}\".format (x, rate_x))"
   ]
  }
 ],
 "metadata": {
  "kernelspec": {
   "display_name": "Python 3.7.4 64-bit ('base': conda)",
   "language": "python",
   "name": "python37464bitbaseconda138479c5fc4f4f3e80c226e8d9f1288c"
  },
  "language_info": {
   "codemirror_mode": {
    "name": "ipython",
    "version": 3
   },
   "file_extension": ".py",
   "mimetype": "text/x-python",
   "name": "python",
   "nbconvert_exporter": "python",
   "pygments_lexer": "ipython3",
   "version": "3.7.4"
  }
 },
 "nbformat": 4,
 "nbformat_minor": 2
}
