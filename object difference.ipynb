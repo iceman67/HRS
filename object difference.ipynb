{
 "cells": [
  {
   "cell_type": "code",
   "execution_count": 1,
   "metadata": {},
   "outputs": [],
   "source": [
    "import numpy as np"
   ]
  },
  {
   "cell_type": "code",
   "execution_count": 6,
   "metadata": {},
   "outputs": [],
   "source": [
    "z = np.array([[0.33, 0.67, 1.0, 0.67, 0.33, 0.33, 1.33, 0.67, 1.33]])"
   ]
  },
  {
   "cell_type": "code",
   "execution_count": 7,
   "metadata": {},
   "outputs": [
    {
     "data": {
      "text/plain": [
       "array([[0.  , 0.34, 0.67, 0.34, 0.  , 0.  , 1.  , 0.34, 1.  ],\n",
       "       [0.34, 0.  , 0.33, 0.  , 0.34, 0.34, 0.66, 0.  , 0.66],\n",
       "       [0.67, 0.33, 0.  , 0.33, 0.67, 0.67, 0.33, 0.33, 0.33],\n",
       "       [0.34, 0.  , 0.33, 0.  , 0.34, 0.34, 0.66, 0.  , 0.66],\n",
       "       [0.  , 0.34, 0.67, 0.34, 0.  , 0.  , 1.  , 0.34, 1.  ],\n",
       "       [0.  , 0.34, 0.67, 0.34, 0.  , 0.  , 1.  , 0.34, 1.  ],\n",
       "       [1.  , 0.66, 0.33, 0.66, 1.  , 1.  , 0.  , 0.66, 0.  ],\n",
       "       [0.34, 0.  , 0.33, 0.  , 0.34, 0.34, 0.66, 0.  , 0.66],\n",
       "       [1.  , 0.66, 0.33, 0.66, 1.  , 1.  , 0.  , 0.66, 0.  ]])"
      ]
     },
     "execution_count": 7,
     "metadata": {},
     "output_type": "execute_result"
    }
   ],
   "source": [
    "abs(z.T-z)"
   ]
  }
 ],
 "metadata": {
  "kernelspec": {
   "display_name": "Python 3",
   "language": "python",
   "name": "python3"
  },
  "language_info": {
   "codemirror_mode": {
    "name": "ipython",
    "version": 3
   },
   "file_extension": ".py",
   "mimetype": "text/x-python",
   "name": "python",
   "nbconvert_exporter": "python",
   "pygments_lexer": "ipython3",
   "version": "3.7.4"
  }
 },
 "nbformat": 4,
 "nbformat_minor": 2
}
